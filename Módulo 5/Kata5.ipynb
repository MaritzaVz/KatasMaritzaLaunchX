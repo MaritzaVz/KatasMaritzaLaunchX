{
 "cells": [
  {
   "cell_type": "markdown",
   "metadata": {},
   "source": [
    "Ejercicio1 - Utilizar operadores aritméticos\n",
    "Operadores aritméticos en Python"
   ]
  },
  {
   "cell_type": "code",
   "execution_count": 2,
   "metadata": {},
   "outputs": [
    {
     "name": "stdout",
     "output_type": "stream",
     "text": [
      "628949330\n",
      "390577533\n"
     ]
    }
   ],
   "source": [
    "# Crear variables para almacenar las dos distancias\n",
    "planeta_tierra = 149597870\n",
    "planeta_jupiter = 778547200 \n",
    "# Calcular la distancia entre planetas\n",
    "distancia = abs(planeta_tierra - planeta_jupiter)\n",
    "distancia_milla = int (distancia * 0.621)\n",
    "print(distancia)\n",
    "print(distancia_milla)"
   ]
  },
  {
   "cell_type": "markdown",
   "metadata": {},
   "source": [
    "Ejercicio 2: convierte cadenas en números y usa valores absolutos"
   ]
  },
  {
   "cell_type": "code",
   "execution_count": 7,
   "metadata": {},
   "outputs": [
    {
     "name": "stdout",
     "output_type": "stream",
     "text": [
      "628949330\n",
      "390577533\n"
     ]
    }
   ],
   "source": [
    "# Almacenar las entradas del usuario\n",
    "distancia1 = input('¿cual es la distancia de la tierra:')\n",
    "distancia2 = input('¿cual es la distancia de jupiter:')\n",
    "# Convierte las cadenas de ambos planetas a números enteros\n",
    "demo_distancia1 = int(distancia1)\n",
    "demo_distancia2 = int (distancia2)\n",
    "# Realizar el cálculo y determinar el valor absoluto\n",
    "distancia = abs (demo_distancia1 - demo_distancia2)\n",
    "# Convertir de KM a Millas\n",
    "distancia_milla = int(distancia * 0.621)\n",
    "print(distancia)\n",
    "print(distancia_milla)"
   ]
  }
 ],
 "metadata": {
  "interpreter": {
   "hash": "88d6edf3f54aa068be38117e186ec100c978b41a99a6ca9310f2aaa9403933d7"
  },
  "kernelspec": {
   "display_name": "Python 3.10.2 64-bit (windows store)",
   "language": "python",
   "name": "python3"
  },
  "language_info": {
   "codemirror_mode": {
    "name": "ipython",
    "version": 3
   },
   "file_extension": ".py",
   "mimetype": "text/x-python",
   "name": "python",
   "nbconvert_exporter": "python",
   "pygments_lexer": "ipython3",
   "version": "3.10.2"
  },
  "orig_nbformat": 4
 },
 "nbformat": 4,
 "nbformat_minor": 2
}
