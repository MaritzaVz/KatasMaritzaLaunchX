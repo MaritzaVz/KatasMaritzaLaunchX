{
 "cells": [
  {
   "cell_type": "code",
   "execution_count": null,
   "metadata": {},
   "outputs": [],
   "source": []
  },
  {
   "cell_type": "markdown",
   "metadata": {},
   "source": [
    "Ejercicio - Escribir declaraciones if, else, y elif"
   ]
  },
  {
   "cell_type": "markdown",
   "metadata": {},
   "source": [
    "# Soluciones\n",
    "Problema No. 1"
   ]
  },
  {
   "cell_type": "code",
   "execution_count": 1,
   "metadata": {},
   "outputs": [
    {
     "name": "stdout",
     "output_type": "stream",
     "text": [
      "¡Alarma! ¡Un asteroide se acerca a velocidades peligrosas!\n"
     ]
    }
   ],
   "source": [
    "asteroide = 49\n",
    "if asteroide > 25:\n",
    "    print(\"¡Alarma! ¡Un asteroide se acerca a velocidades peligrosa!\")\n",
    "else:\n",
    "    print('¡Disfruta del Universo')"
   ]
  },
  {
   "cell_type": "markdown",
   "metadata": {},
   "source": [
    "Problema No. 2"
   ]
  },
  {
   "cell_type": "code",
   "execution_count": 2,
   "metadata": {},
   "outputs": [
    {
     "name": "stdout",
     "output_type": "stream",
     "text": [
      "¡Nada que ver aquí!\n"
     ]
    }
   ],
   "source": [
    "asteroide = 19\n",
    "if asteroide > 20:\n",
    "    print(\"Mira hacia Arriba! ¡Hay una rayo de luz en el cielo!\")\n",
    "elif asteroide == 20:\n",
    "    print(\"Mira hacia Arriba! ¡Hay una rayo de luz en el cielo!\")\n",
    "else:\n",
    "    print(\"¡Nada que ver aquí!\")"
   ]
  },
  {
   "cell_type": "markdown",
   "metadata": {},
   "source": [
    "Problema No. 3"
   ]
  },
  {
   "cell_type": "code",
   "execution_count": 10,
   "metadata": {},
   "outputs": [
    {
     "name": "stdout",
     "output_type": "stream",
     "text": [
      "Mira hacia Arriba! ¡Hay una rayo de luz en el cielo!\n"
     ]
    }
   ],
   "source": [
    "velocidad_asteroide = 21\n",
    "tamano_asteroide = 40\n",
    "if velocidad_asteroide > 25 and tamano_asteroide > 25:\n",
    "    print(\"Asteroide golpea la tierra!!\")\n",
    "elif velocidad_asteroide >= 20:\n",
    "    print(\"Mira hacia Arriba! ¡Hay una rayo de luz en el cielo!\")\n",
    "elif tamano_asteroide < 25:\n",
    "    print(\"Nada que ver! \")\n",
    "else:\n",
    "    print(\"Nada que ver!\")\n"
   ]
  }
 ],
 "metadata": {
  "interpreter": {
   "hash": "50ffa66ed2af19f227af96ff31cdaa1a7d1bddba27570e74476a442bfefff436"
  },
  "kernelspec": {
   "display_name": "Python 3.9.10 64-bit",
   "language": "python",
   "name": "python3"
  },
  "language_info": {
   "codemirror_mode": {
    "name": "ipython",
    "version": 3
   },
   "file_extension": ".py",
   "mimetype": "text/x-python",
   "name": "python",
   "nbconvert_exporter": "python",
   "pygments_lexer": "ipython3",
   "version": "3.9.10"
  },
  "orig_nbformat": 4
 },
 "nbformat": 4,
 "nbformat_minor": 2
}
